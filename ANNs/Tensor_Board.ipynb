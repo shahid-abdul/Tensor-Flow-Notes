{
 "cells": [
  {
   "cell_type": "markdown",
   "metadata": {},
   "source": [
    "# Tensorboard\n",
    "\n",
    "---\n",
    "---\n",
    "\n",
    "**NOTE: You must watch the corresponding video to understand this lecture. This notebook can't serve as a full guide. Please watch the video BEFORE posting questions to the QA forum.**\n",
    "\n",
    "---\n",
    "---\n",
    "\n",
    "Let's explore the built in data visualization capabilities that come with Tensorboard.\n",
    "\n",
    "Full official tutorial available here: https://www.tensorflow.org/tensorboard/get_started\n",
    "\n",
    "## Data"
   ]
  },
  {
   "cell_type": "code",
   "execution_count": 1,
   "metadata": {},
   "outputs": [],
   "source": [
    "import pandas as pd\n",
    "import numpy as np"
   ]
  },
  {
   "cell_type": "code",
   "execution_count": 2,
   "metadata": {},
   "outputs": [],
   "source": [
    "df = pd.read_csv('../DATA/cancer_classification.csv')"
   ]
  },
  {
   "cell_type": "markdown",
   "metadata": {},
   "source": [
    "### Train Test Split"
   ]
  },
  {
   "cell_type": "code",
   "execution_count": 3,
   "metadata": {},
   "outputs": [],
   "source": [
    "X = df.drop('benign_0__mal_1',axis=1).values\n",
    "y = df['benign_0__mal_1'].values"
   ]
  },
  {
   "cell_type": "code",
   "execution_count": 4,
   "metadata": {},
   "outputs": [],
   "source": [
    "from sklearn.model_selection import train_test_split"
   ]
  },
  {
   "cell_type": "code",
   "execution_count": 5,
   "metadata": {},
   "outputs": [],
   "source": [
    "X_train, X_test, y_train, y_test = train_test_split(X,y,test_size=0.25,random_state=101)"
   ]
  },
  {
   "cell_type": "markdown",
   "metadata": {},
   "source": [
    "\n",
    "### Scaling Data"
   ]
  },
  {
   "cell_type": "code",
   "execution_count": 6,
   "metadata": {},
   "outputs": [],
   "source": [
    "from sklearn.preprocessing import MinMaxScaler"
   ]
  },
  {
   "cell_type": "code",
   "execution_count": 7,
   "metadata": {},
   "outputs": [],
   "source": [
    "scaler = MinMaxScaler()"
   ]
  },
  {
   "cell_type": "code",
   "execution_count": 8,
   "metadata": {},
   "outputs": [
    {
     "data": {
      "text/html": [
       "<style>#sk-container-id-1 {color: black;}#sk-container-id-1 pre{padding: 0;}#sk-container-id-1 div.sk-toggleable {background-color: white;}#sk-container-id-1 label.sk-toggleable__label {cursor: pointer;display: block;width: 100%;margin-bottom: 0;padding: 0.3em;box-sizing: border-box;text-align: center;}#sk-container-id-1 label.sk-toggleable__label-arrow:before {content: \"▸\";float: left;margin-right: 0.25em;color: #696969;}#sk-container-id-1 label.sk-toggleable__label-arrow:hover:before {color: black;}#sk-container-id-1 div.sk-estimator:hover label.sk-toggleable__label-arrow:before {color: black;}#sk-container-id-1 div.sk-toggleable__content {max-height: 0;max-width: 0;overflow: hidden;text-align: left;background-color: #f0f8ff;}#sk-container-id-1 div.sk-toggleable__content pre {margin: 0.2em;color: black;border-radius: 0.25em;background-color: #f0f8ff;}#sk-container-id-1 input.sk-toggleable__control:checked~div.sk-toggleable__content {max-height: 200px;max-width: 100%;overflow: auto;}#sk-container-id-1 input.sk-toggleable__control:checked~label.sk-toggleable__label-arrow:before {content: \"▾\";}#sk-container-id-1 div.sk-estimator input.sk-toggleable__control:checked~label.sk-toggleable__label {background-color: #d4ebff;}#sk-container-id-1 div.sk-label input.sk-toggleable__control:checked~label.sk-toggleable__label {background-color: #d4ebff;}#sk-container-id-1 input.sk-hidden--visually {border: 0;clip: rect(1px 1px 1px 1px);clip: rect(1px, 1px, 1px, 1px);height: 1px;margin: -1px;overflow: hidden;padding: 0;position: absolute;width: 1px;}#sk-container-id-1 div.sk-estimator {font-family: monospace;background-color: #f0f8ff;border: 1px dotted black;border-radius: 0.25em;box-sizing: border-box;margin-bottom: 0.5em;}#sk-container-id-1 div.sk-estimator:hover {background-color: #d4ebff;}#sk-container-id-1 div.sk-parallel-item::after {content: \"\";width: 100%;border-bottom: 1px solid gray;flex-grow: 1;}#sk-container-id-1 div.sk-label:hover label.sk-toggleable__label {background-color: #d4ebff;}#sk-container-id-1 div.sk-serial::before {content: \"\";position: absolute;border-left: 1px solid gray;box-sizing: border-box;top: 0;bottom: 0;left: 50%;z-index: 0;}#sk-container-id-1 div.sk-serial {display: flex;flex-direction: column;align-items: center;background-color: white;padding-right: 0.2em;padding-left: 0.2em;position: relative;}#sk-container-id-1 div.sk-item {position: relative;z-index: 1;}#sk-container-id-1 div.sk-parallel {display: flex;align-items: stretch;justify-content: center;background-color: white;position: relative;}#sk-container-id-1 div.sk-item::before, #sk-container-id-1 div.sk-parallel-item::before {content: \"\";position: absolute;border-left: 1px solid gray;box-sizing: border-box;top: 0;bottom: 0;left: 50%;z-index: -1;}#sk-container-id-1 div.sk-parallel-item {display: flex;flex-direction: column;z-index: 1;position: relative;background-color: white;}#sk-container-id-1 div.sk-parallel-item:first-child::after {align-self: flex-end;width: 50%;}#sk-container-id-1 div.sk-parallel-item:last-child::after {align-self: flex-start;width: 50%;}#sk-container-id-1 div.sk-parallel-item:only-child::after {width: 0;}#sk-container-id-1 div.sk-dashed-wrapped {border: 1px dashed gray;margin: 0 0.4em 0.5em 0.4em;box-sizing: border-box;padding-bottom: 0.4em;background-color: white;}#sk-container-id-1 div.sk-label label {font-family: monospace;font-weight: bold;display: inline-block;line-height: 1.2em;}#sk-container-id-1 div.sk-label-container {text-align: center;}#sk-container-id-1 div.sk-container {/* jupyter's `normalize.less` sets `[hidden] { display: none; }` but bootstrap.min.css set `[hidden] { display: none !important; }` so we also need the `!important` here to be able to override the default hidden behavior on the sphinx rendered scikit-learn.org. See: https://github.com/scikit-learn/scikit-learn/issues/21755 */display: inline-block !important;position: relative;}#sk-container-id-1 div.sk-text-repr-fallback {display: none;}</style><div id=\"sk-container-id-1\" class=\"sk-top-container\"><div class=\"sk-text-repr-fallback\"><pre>MinMaxScaler()</pre><b>In a Jupyter environment, please rerun this cell to show the HTML representation or trust the notebook. <br />On GitHub, the HTML representation is unable to render, please try loading this page with nbviewer.org.</b></div><div class=\"sk-container\" hidden><div class=\"sk-item\"><div class=\"sk-estimator sk-toggleable\"><input class=\"sk-toggleable__control sk-hidden--visually\" id=\"sk-estimator-id-1\" type=\"checkbox\" checked><label for=\"sk-estimator-id-1\" class=\"sk-toggleable__label sk-toggleable__label-arrow\">MinMaxScaler</label><div class=\"sk-toggleable__content\"><pre>MinMaxScaler()</pre></div></div></div></div></div>"
      ],
      "text/plain": [
       "MinMaxScaler()"
      ]
     },
     "execution_count": 8,
     "metadata": {},
     "output_type": "execute_result"
    }
   ],
   "source": [
    "scaler.fit(X_train)"
   ]
  },
  {
   "cell_type": "code",
   "execution_count": 9,
   "metadata": {},
   "outputs": [],
   "source": [
    "X_train = scaler.transform(X_train)\n",
    "X_test = scaler.transform(X_test)"
   ]
  },
  {
   "cell_type": "markdown",
   "metadata": {},
   "source": [
    "## Creating the Model"
   ]
  },
  {
   "cell_type": "code",
   "execution_count": 10,
   "metadata": {},
   "outputs": [],
   "source": [
    "import tensorflow as tf\n",
    "from tensorflow.keras.models import Sequential\n",
    "from tensorflow.keras.layers import Dense, Activation,Dropout"
   ]
  },
  {
   "cell_type": "code",
   "execution_count": 11,
   "metadata": {},
   "outputs": [],
   "source": [
    "from tensorflow.keras.callbacks import EarlyStopping,TensorBoard"
   ]
  },
  {
   "cell_type": "code",
   "execution_count": 12,
   "metadata": {},
   "outputs": [],
   "source": [
    "early_stop = EarlyStopping(monitor='val_loss', mode='min', verbose=1, patience=25)"
   ]
  },
  {
   "cell_type": "code",
   "execution_count": 13,
   "metadata": {},
   "outputs": [
    {
     "data": {
      "text/plain": [
       "'/Users/_shahid_abdul/Downloads/DAY 19/ANNs'"
      ]
     },
     "execution_count": 13,
     "metadata": {},
     "output_type": "execute_result"
    }
   ],
   "source": [
    "pwd"
   ]
  },
  {
   "cell_type": "markdown",
   "metadata": {},
   "source": [
    "## Creating the Tensorboard Callback\n",
    "\n",
    "TensorBoard is a visualization tool provided with TensorFlow.\n",
    "\n",
    "This callback logs events for TensorBoard, including:\n",
    "* Metrics summary plots\n",
    "* Training graph visualization\n",
    "* Activation histograms\n",
    "* Sampled profiling\n",
    "\n",
    "If you have installed TensorFlow with pip, you should be able\n",
    "to launch TensorBoard from the command line:\n",
    "\n",
    "```sh\n",
    "tensorboard --logdir=path_to_your_logs\n",
    "```\n",
    "\n",
    "You can find more information about TensorBoard\n",
    "[here](https://www.tensorflow.org/tensorboard/).\n",
    "\n",
    "    Arguments:\n",
    "        log_dir: the path of the directory where to save the log files to be\n",
    "          parsed by TensorBoard.\n",
    "        histogram_freq: frequency (in epochs) at which to compute activation and\n",
    "          weight histograms for the layers of the model. If set to 0, histograms\n",
    "          won't be computed. Validation data (or split) must be specified for\n",
    "          histogram visualizations.\n",
    "        write_graph: whether to visualize the graph in TensorBoard. The log file\n",
    "          can become quite large when write_graph is set to True.\n",
    "        write_images: whether to write model weights to visualize as image in\n",
    "          TensorBoard.\n",
    "        update_freq: `'batch'` or `'epoch'` or integer. When using `'batch'`,\n",
    "          writes the losses and metrics to TensorBoard after each batch. The same\n",
    "          applies for `'epoch'`. If using an integer, let's say `1000`, the\n",
    "          callback will write the metrics and losses to TensorBoard every 1000\n",
    "          samples. Note that writing too frequently to TensorBoard can slow down\n",
    "          your training.\n",
    "        profile_batch: Profile the batch to sample compute characteristics. By\n",
    "          default, it will profile the second batch. Set profile_batch=0 to\n",
    "          disable profiling. Must run in TensorFlow eager mode.\n",
    "        embeddings_freq: frequency (in epochs) at which embedding layers will\n",
    "          be visualized. If set to 0, embeddings won't be visualized.\n",
    "       "
   ]
  },
  {
   "cell_type": "code",
   "execution_count": 14,
   "metadata": {},
   "outputs": [],
   "source": [
    "from datetime import datetime"
   ]
  },
  {
   "cell_type": "code",
   "execution_count": 15,
   "metadata": {},
   "outputs": [
    {
     "data": {
      "text/plain": [
       "'2024-02-08--1926'"
      ]
     },
     "execution_count": 15,
     "metadata": {},
     "output_type": "execute_result"
    }
   ],
   "source": [
    "datetime.now().strftime(\"%Y-%m-%d--%H%M\")"
   ]
  },
  {
   "cell_type": "code",
   "execution_count": 16,
   "metadata": {},
   "outputs": [
    {
     "name": "stderr",
     "output_type": "stream",
     "text": [
      "2024-02-08 19:26:18.282455: I external/local_tsl/tsl/profiler/lib/profiler_session.cc:104] Profiler session initializing.\n",
      "2024-02-08 19:26:18.282470: I external/local_tsl/tsl/profiler/lib/profiler_session.cc:119] Profiler session started.\n",
      "2024-02-08 19:26:18.283091: I external/local_tsl/tsl/profiler/lib/profiler_session.cc:131] Profiler session tear down.\n"
     ]
    }
   ],
   "source": [
    "# WINDOWS: Use \"logs\\\\fit\"\n",
    "# MACOS/LINUX: Use \"logs\\fit\"\n",
    "\n",
    "log_directory = 'logs\\\\fit'\n",
    "\n",
    "# OPTIONAL: ADD A TIMESTAMP FOR UNIQUE FOLDER\n",
    "# timestamp = datetime.now().strftime(\"%Y-%m-%d--%H%M\")\n",
    "# log_directory = log_directory + '\\\\' + timestamp\n",
    "\n",
    "\n",
    "board = TensorBoard(log_dir=log_directory,histogram_freq=1,\n",
    "    write_graph=True,\n",
    "    write_images=True,\n",
    "    update_freq='epoch',\n",
    "    profile_batch=2,\n",
    "    embeddings_freq=1)"
   ]
  },
  {
   "cell_type": "markdown",
   "metadata": {},
   "source": [
    "Now create the model layers:"
   ]
  },
  {
   "cell_type": "code",
   "execution_count": 17,
   "metadata": {},
   "outputs": [],
   "source": [
    "model = Sequential()\n",
    "model.add(Dense(units=30,activation='relu'))\n",
    "model.add(Dropout(0.5))\n",
    "model.add(Dense(units=15,activation='relu'))\n",
    "model.add(Dropout(0.5))\n",
    "model.add(Dense(units=1,activation='sigmoid'))\n",
    "model.compile(loss='binary_crossentropy', optimizer='adam')"
   ]
  },
  {
   "cell_type": "markdown",
   "metadata": {},
   "source": [
    "## Train the Model"
   ]
  },
  {
   "cell_type": "code",
   "execution_count": 18,
   "metadata": {},
   "outputs": [
    {
     "name": "stdout",
     "output_type": "stream",
     "text": [
      "Epoch 1/600\n",
      "14/14 [==============================] - 0s 11ms/step - loss: 0.6954 - val_loss: 0.6764\n",
      "Epoch 2/600\n",
      "14/14 [==============================] - 0s 3ms/step - loss: 0.6861 - val_loss: 0.6647\n",
      "Epoch 3/600\n",
      " 1/14 [=>............................] - ETA: 0s - loss: 0.7274"
     ]
    },
    {
     "name": "stderr",
     "output_type": "stream",
     "text": [
      "2024-02-08 19:26:18.597603: I external/local_tsl/tsl/profiler/lib/profiler_session.cc:104] Profiler session initializing.\n",
      "2024-02-08 19:26:18.597612: I external/local_tsl/tsl/profiler/lib/profiler_session.cc:119] Profiler session started.\n",
      "2024-02-08 19:26:18.599234: I external/local_tsl/tsl/profiler/lib/profiler_session.cc:70] Profiler session collecting data.\n",
      "2024-02-08 19:26:18.602029: I external/local_tsl/tsl/profiler/lib/profiler_session.cc:131] Profiler session tear down.\n",
      "2024-02-08 19:26:18.604349: I external/local_tsl/tsl/profiler/rpc/client/save_profile.cc:144] Collecting XSpace to repository: logs\\fit/plugins/profile/2024_02_08_19_26_18/SYEDs-MacBook-Air.local.xplane.pb\n"
     ]
    },
    {
     "name": "stdout",
     "output_type": "stream",
     "text": [
      "14/14 [==============================] - 0s 3ms/step - loss: 0.6819 - val_loss: 0.6535\n",
      "Epoch 4/600\n",
      "14/14 [==============================] - 0s 3ms/step - loss: 0.6482 - val_loss: 0.6385\n",
      "Epoch 5/600\n",
      "14/14 [==============================] - 0s 3ms/step - loss: 0.6462 - val_loss: 0.6209\n",
      "Epoch 6/600\n",
      "14/14 [==============================] - 0s 3ms/step - loss: 0.6330 - val_loss: 0.6011\n",
      "Epoch 7/600\n",
      "14/14 [==============================] - 0s 3ms/step - loss: 0.6389 - val_loss: 0.5825\n",
      "Epoch 8/600\n",
      "14/14 [==============================] - 0s 3ms/step - loss: 0.6073 - val_loss: 0.5615\n",
      "Epoch 9/600\n",
      "14/14 [==============================] - 0s 3ms/step - loss: 0.5873 - val_loss: 0.5384\n",
      "Epoch 10/600\n",
      "14/14 [==============================] - 0s 3ms/step - loss: 0.5723 - val_loss: 0.5130\n",
      "Epoch 11/600\n",
      "14/14 [==============================] - 0s 3ms/step - loss: 0.5410 - val_loss: 0.4853\n",
      "Epoch 12/600\n",
      "14/14 [==============================] - 0s 3ms/step - loss: 0.5187 - val_loss: 0.4569\n",
      "Epoch 13/600\n",
      "14/14 [==============================] - 0s 3ms/step - loss: 0.5032 - val_loss: 0.4288\n",
      "Epoch 14/600\n",
      "14/14 [==============================] - 0s 3ms/step - loss: 0.4701 - val_loss: 0.3984\n",
      "Epoch 15/600\n",
      "14/14 [==============================] - 0s 3ms/step - loss: 0.4589 - val_loss: 0.3763\n",
      "Epoch 16/600\n",
      "14/14 [==============================] - 0s 4ms/step - loss: 0.4479 - val_loss: 0.3490\n",
      "Epoch 17/600\n",
      "14/14 [==============================] - 0s 3ms/step - loss: 0.4336 - val_loss: 0.3313\n",
      "Epoch 18/600\n",
      "14/14 [==============================] - 0s 3ms/step - loss: 0.4079 - val_loss: 0.3047\n",
      "Epoch 19/600\n",
      "14/14 [==============================] - 0s 3ms/step - loss: 0.3865 - val_loss: 0.2893\n",
      "Epoch 20/600\n",
      "14/14 [==============================] - 0s 3ms/step - loss: 0.3771 - val_loss: 0.2691\n",
      "Epoch 21/600\n",
      "14/14 [==============================] - 0s 3ms/step - loss: 0.3672 - val_loss: 0.2558\n",
      "Epoch 22/600\n",
      "14/14 [==============================] - 0s 3ms/step - loss: 0.3512 - val_loss: 0.2371\n",
      "Epoch 23/600\n",
      "14/14 [==============================] - 0s 3ms/step - loss: 0.3321 - val_loss: 0.2264\n",
      "Epoch 24/600\n",
      "14/14 [==============================] - 0s 3ms/step - loss: 0.2937 - val_loss: 0.2129\n",
      "Epoch 25/600\n",
      "14/14 [==============================] - 0s 3ms/step - loss: 0.3208 - val_loss: 0.1994\n",
      "Epoch 26/600\n",
      "14/14 [==============================] - 0s 3ms/step - loss: 0.2977 - val_loss: 0.1944\n",
      "Epoch 27/600\n",
      "14/14 [==============================] - 0s 3ms/step - loss: 0.2962 - val_loss: 0.1831\n",
      "Epoch 28/600\n",
      "14/14 [==============================] - 0s 3ms/step - loss: 0.2829 - val_loss: 0.1757\n",
      "Epoch 29/600\n",
      "14/14 [==============================] - 0s 3ms/step - loss: 0.2641 - val_loss: 0.1661\n",
      "Epoch 30/600\n",
      "14/14 [==============================] - 0s 3ms/step - loss: 0.2415 - val_loss: 0.1596\n",
      "Epoch 31/600\n",
      "14/14 [==============================] - 0s 3ms/step - loss: 0.2490 - val_loss: 0.1671\n",
      "Epoch 32/600\n",
      "14/14 [==============================] - 0s 3ms/step - loss: 0.2381 - val_loss: 0.1528\n",
      "Epoch 33/600\n",
      "14/14 [==============================] - 0s 3ms/step - loss: 0.2319 - val_loss: 0.1478\n",
      "Epoch 34/600\n",
      "14/14 [==============================] - 0s 3ms/step - loss: 0.2206 - val_loss: 0.1398\n",
      "Epoch 35/600\n",
      "14/14 [==============================] - 0s 3ms/step - loss: 0.2227 - val_loss: 0.1352\n",
      "Epoch 36/600\n",
      "14/14 [==============================] - 0s 3ms/step - loss: 0.2194 - val_loss: 0.1366\n",
      "Epoch 37/600\n",
      "14/14 [==============================] - 0s 3ms/step - loss: 0.1913 - val_loss: 0.1332\n",
      "Epoch 38/600\n",
      "14/14 [==============================] - 0s 3ms/step - loss: 0.2183 - val_loss: 0.1241\n",
      "Epoch 39/600\n",
      "14/14 [==============================] - 0s 3ms/step - loss: 0.2218 - val_loss: 0.1250\n",
      "Epoch 40/600\n",
      "14/14 [==============================] - 0s 3ms/step - loss: 0.1816 - val_loss: 0.1274\n",
      "Epoch 41/600\n",
      "14/14 [==============================] - 0s 3ms/step - loss: 0.2007 - val_loss: 0.1186\n",
      "Epoch 42/600\n",
      "14/14 [==============================] - 0s 3ms/step - loss: 0.2015 - val_loss: 0.1200\n",
      "Epoch 43/600\n",
      "14/14 [==============================] - 0s 3ms/step - loss: 0.1793 - val_loss: 0.1217\n",
      "Epoch 44/600\n",
      "14/14 [==============================] - 0s 3ms/step - loss: 0.1961 - val_loss: 0.1159\n",
      "Epoch 45/600\n",
      "14/14 [==============================] - 0s 3ms/step - loss: 0.1680 - val_loss: 0.1138\n",
      "Epoch 46/600\n",
      "14/14 [==============================] - 0s 3ms/step - loss: 0.1508 - val_loss: 0.1124\n",
      "Epoch 47/600\n",
      "14/14 [==============================] - 0s 3ms/step - loss: 0.1787 - val_loss: 0.1060\n",
      "Epoch 48/600\n",
      "14/14 [==============================] - 0s 3ms/step - loss: 0.1797 - val_loss: 0.1094\n",
      "Epoch 49/600\n",
      "14/14 [==============================] - 0s 3ms/step - loss: 0.1621 - val_loss: 0.1096\n",
      "Epoch 50/600\n",
      "14/14 [==============================] - 0s 3ms/step - loss: 0.1849 - val_loss: 0.1006\n",
      "Epoch 51/600\n",
      "14/14 [==============================] - 0s 3ms/step - loss: 0.1620 - val_loss: 0.1053\n",
      "Epoch 52/600\n",
      "14/14 [==============================] - 0s 3ms/step - loss: 0.1584 - val_loss: 0.1044\n",
      "Epoch 53/600\n",
      "14/14 [==============================] - 0s 3ms/step - loss: 0.1671 - val_loss: 0.1017\n",
      "Epoch 54/600\n",
      "14/14 [==============================] - 0s 3ms/step - loss: 0.1453 - val_loss: 0.1126\n",
      "Epoch 55/600\n",
      "14/14 [==============================] - 0s 3ms/step - loss: 0.1335 - val_loss: 0.1034\n",
      "Epoch 56/600\n",
      "14/14 [==============================] - 0s 3ms/step - loss: 0.1635 - val_loss: 0.0968\n",
      "Epoch 57/600\n",
      "14/14 [==============================] - 0s 3ms/step - loss: 0.1523 - val_loss: 0.0981\n",
      "Epoch 58/600\n",
      "14/14 [==============================] - 0s 3ms/step - loss: 0.1656 - val_loss: 0.1012\n",
      "Epoch 59/600\n",
      "14/14 [==============================] - 0s 3ms/step - loss: 0.1528 - val_loss: 0.1004\n",
      "Epoch 60/600\n",
      "14/14 [==============================] - 0s 3ms/step - loss: 0.1398 - val_loss: 0.0983\n",
      "Epoch 61/600\n",
      "14/14 [==============================] - 0s 3ms/step - loss: 0.1315 - val_loss: 0.1017\n",
      "Epoch 62/600\n",
      "14/14 [==============================] - 0s 3ms/step - loss: 0.1466 - val_loss: 0.0968\n",
      "Epoch 63/600\n",
      "14/14 [==============================] - 0s 3ms/step - loss: 0.1482 - val_loss: 0.0971\n",
      "Epoch 64/600\n",
      "14/14 [==============================] - 0s 3ms/step - loss: 0.1276 - val_loss: 0.0991\n",
      "Epoch 65/600\n",
      "14/14 [==============================] - 0s 3ms/step - loss: 0.1384 - val_loss: 0.0993\n",
      "Epoch 66/600\n",
      "14/14 [==============================] - 0s 3ms/step - loss: 0.1416 - val_loss: 0.1030\n",
      "Epoch 67/600\n",
      "14/14 [==============================] - 0s 3ms/step - loss: 0.1188 - val_loss: 0.0973\n",
      "Epoch 68/600\n",
      "14/14 [==============================] - 0s 3ms/step - loss: 0.1326 - val_loss: 0.0961\n",
      "Epoch 69/600\n",
      "14/14 [==============================] - 0s 3ms/step - loss: 0.1499 - val_loss: 0.0945\n",
      "Epoch 70/600\n",
      "14/14 [==============================] - 0s 3ms/step - loss: 0.1337 - val_loss: 0.0970\n",
      "Epoch 71/600\n",
      "14/14 [==============================] - 0s 3ms/step - loss: 0.1282 - val_loss: 0.0982\n",
      "Epoch 72/600\n",
      "14/14 [==============================] - 0s 3ms/step - loss: 0.1204 - val_loss: 0.0925\n",
      "Epoch 73/600\n",
      "14/14 [==============================] - 0s 3ms/step - loss: 0.1082 - val_loss: 0.0949\n",
      "Epoch 74/600\n",
      "14/14 [==============================] - 0s 3ms/step - loss: 0.1193 - val_loss: 0.0994\n",
      "Epoch 75/600\n",
      "14/14 [==============================] - 0s 3ms/step - loss: 0.1110 - val_loss: 0.0928\n",
      "Epoch 76/600\n",
      "14/14 [==============================] - 0s 3ms/step - loss: 0.1255 - val_loss: 0.1005\n",
      "Epoch 77/600\n",
      "14/14 [==============================] - 0s 4ms/step - loss: 0.1363 - val_loss: 0.0959\n",
      "Epoch 78/600\n",
      "14/14 [==============================] - 0s 3ms/step - loss: 0.1259 - val_loss: 0.0944\n",
      "Epoch 79/600\n",
      "14/14 [==============================] - 0s 3ms/step - loss: 0.1090 - val_loss: 0.1050\n",
      "Epoch 80/600\n",
      "14/14 [==============================] - 0s 3ms/step - loss: 0.1183 - val_loss: 0.1028\n",
      "Epoch 81/600\n",
      "14/14 [==============================] - 0s 3ms/step - loss: 0.1105 - val_loss: 0.0949\n",
      "Epoch 82/600\n",
      "14/14 [==============================] - 0s 3ms/step - loss: 0.1219 - val_loss: 0.0974\n",
      "Epoch 83/600\n",
      "14/14 [==============================] - 0s 3ms/step - loss: 0.1089 - val_loss: 0.0975\n",
      "Epoch 84/600\n",
      "14/14 [==============================] - 0s 3ms/step - loss: 0.1125 - val_loss: 0.1061\n",
      "Epoch 85/600\n",
      "14/14 [==============================] - 0s 3ms/step - loss: 0.1054 - val_loss: 0.0961\n",
      "Epoch 86/600\n",
      "14/14 [==============================] - 0s 3ms/step - loss: 0.1129 - val_loss: 0.0994\n",
      "Epoch 87/600\n",
      "14/14 [==============================] - 0s 3ms/step - loss: 0.1161 - val_loss: 0.1113\n",
      "Epoch 88/600\n",
      "14/14 [==============================] - 0s 3ms/step - loss: 0.1125 - val_loss: 0.0919\n",
      "Epoch 89/600\n",
      "14/14 [==============================] - 0s 3ms/step - loss: 0.0904 - val_loss: 0.0980\n",
      "Epoch 90/600\n",
      "14/14 [==============================] - 0s 3ms/step - loss: 0.1334 - val_loss: 0.0930\n",
      "Epoch 91/600\n",
      "14/14 [==============================] - 0s 3ms/step - loss: 0.1035 - val_loss: 0.0977\n",
      "Epoch 92/600\n",
      "14/14 [==============================] - 0s 3ms/step - loss: 0.0955 - val_loss: 0.0899\n",
      "Epoch 93/600\n",
      "14/14 [==============================] - 0s 3ms/step - loss: 0.1004 - val_loss: 0.1047\n",
      "Epoch 94/600\n",
      "14/14 [==============================] - 0s 3ms/step - loss: 0.1004 - val_loss: 0.1018\n",
      "Epoch 95/600\n",
      "14/14 [==============================] - 0s 3ms/step - loss: 0.1098 - val_loss: 0.0992\n",
      "Epoch 96/600\n",
      "14/14 [==============================] - 0s 3ms/step - loss: 0.0956 - val_loss: 0.0946\n",
      "Epoch 97/600\n",
      "14/14 [==============================] - 0s 3ms/step - loss: 0.1054 - val_loss: 0.1137\n",
      "Epoch 98/600\n",
      "14/14 [==============================] - 0s 3ms/step - loss: 0.1336 - val_loss: 0.0928\n",
      "Epoch 99/600\n",
      "14/14 [==============================] - 0s 3ms/step - loss: 0.1024 - val_loss: 0.0894\n",
      "Epoch 100/600\n",
      "14/14 [==============================] - 0s 3ms/step - loss: 0.1046 - val_loss: 0.0948\n",
      "Epoch 101/600\n",
      "14/14 [==============================] - 0s 3ms/step - loss: 0.0993 - val_loss: 0.0966\n",
      "Epoch 102/600\n",
      "14/14 [==============================] - 0s 3ms/step - loss: 0.1036 - val_loss: 0.0882\n",
      "Epoch 103/600\n",
      "14/14 [==============================] - 0s 3ms/step - loss: 0.1001 - val_loss: 0.0968\n",
      "Epoch 104/600\n",
      "14/14 [==============================] - 0s 3ms/step - loss: 0.1090 - val_loss: 0.1059\n",
      "Epoch 105/600\n",
      "14/14 [==============================] - 0s 3ms/step - loss: 0.0989 - val_loss: 0.0925\n",
      "Epoch 106/600\n",
      "14/14 [==============================] - 0s 3ms/step - loss: 0.0836 - val_loss: 0.0904\n",
      "Epoch 107/600\n",
      "14/14 [==============================] - 0s 3ms/step - loss: 0.1103 - val_loss: 0.1107\n",
      "Epoch 108/600\n",
      "14/14 [==============================] - 0s 3ms/step - loss: 0.0849 - val_loss: 0.1012\n",
      "Epoch 109/600\n",
      "14/14 [==============================] - 0s 3ms/step - loss: 0.1057 - val_loss: 0.0902\n",
      "Epoch 110/600\n",
      "14/14 [==============================] - 0s 3ms/step - loss: 0.0923 - val_loss: 0.0933\n",
      "Epoch 111/600\n",
      "14/14 [==============================] - 0s 3ms/step - loss: 0.1217 - val_loss: 0.0949\n",
      "Epoch 112/600\n",
      "14/14 [==============================] - 0s 3ms/step - loss: 0.0873 - val_loss: 0.1034\n",
      "Epoch 113/600\n",
      "14/14 [==============================] - 0s 3ms/step - loss: 0.0747 - val_loss: 0.1132\n",
      "Epoch 114/600\n",
      "14/14 [==============================] - 0s 3ms/step - loss: 0.1095 - val_loss: 0.0963\n",
      "Epoch 115/600\n",
      "14/14 [==============================] - 0s 3ms/step - loss: 0.0809 - val_loss: 0.0950\n",
      "Epoch 116/600\n",
      "14/14 [==============================] - 0s 3ms/step - loss: 0.1014 - val_loss: 0.1007\n",
      "Epoch 117/600\n",
      "14/14 [==============================] - 0s 3ms/step - loss: 0.1059 - val_loss: 0.0966\n",
      "Epoch 118/600\n",
      "14/14 [==============================] - 0s 3ms/step - loss: 0.0822 - val_loss: 0.0919\n",
      "Epoch 119/600\n",
      "14/14 [==============================] - 0s 3ms/step - loss: 0.0783 - val_loss: 0.1006\n",
      "Epoch 120/600\n",
      "14/14 [==============================] - 0s 3ms/step - loss: 0.0945 - val_loss: 0.1005\n",
      "Epoch 121/600\n",
      "14/14 [==============================] - 0s 3ms/step - loss: 0.0888 - val_loss: 0.1017\n",
      "Epoch 122/600\n",
      "14/14 [==============================] - 0s 3ms/step - loss: 0.1069 - val_loss: 0.0900\n",
      "Epoch 123/600\n",
      "14/14 [==============================] - 0s 3ms/step - loss: 0.1166 - val_loss: 0.0985\n",
      "Epoch 124/600\n",
      "14/14 [==============================] - 0s 3ms/step - loss: 0.0920 - val_loss: 0.0982\n",
      "Epoch 125/600\n",
      "14/14 [==============================] - 0s 3ms/step - loss: 0.0974 - val_loss: 0.0921\n",
      "Epoch 126/600\n",
      "14/14 [==============================] - 0s 3ms/step - loss: 0.0944 - val_loss: 0.0942\n",
      "Epoch 127/600\n",
      "14/14 [==============================] - 0s 3ms/step - loss: 0.1147 - val_loss: 0.1163\n",
      "Epoch 127: early stopping\n"
     ]
    },
    {
     "data": {
      "text/plain": [
       "<keras.src.callbacks.History at 0x290528ad0>"
      ]
     },
     "execution_count": 18,
     "metadata": {},
     "output_type": "execute_result"
    }
   ],
   "source": [
    "model.fit(x=X_train, \n",
    "          y=y_train, \n",
    "          epochs=600,\n",
    "          validation_data=(X_test, y_test), verbose=1,\n",
    "          callbacks=[early_stop,board]\n",
    "          )"
   ]
  },
  {
   "cell_type": "markdown",
   "metadata": {},
   "source": [
    "# Running Tensorboard\n"
   ]
  },
  {
   "cell_type": "markdown",
   "metadata": {},
   "source": [
    "## Running through the Command Line\n",
    "\n",
    "**Watch video to see how to run Tensorboard through a command line call.**"
   ]
  },
  {
   "cell_type": "markdown",
   "metadata": {},
   "source": [
    "Tensorboard will run locally in your browser at [http://localhost:6006/](http://localhost:6006/)\n"
   ]
  },
  {
   "cell_type": "code",
   "execution_count": 19,
   "metadata": {},
   "outputs": [
    {
     "name": "stdout",
     "output_type": "stream",
     "text": [
      "logs\\fit\n"
     ]
    }
   ],
   "source": [
    "print(log_directory)"
   ]
  },
  {
   "cell_type": "code",
   "execution_count": 20,
   "metadata": {},
   "outputs": [
    {
     "data": {
      "text/plain": [
       "'/Users/_shahid_abdul/Downloads/DAY 19/ANNs'"
      ]
     },
     "execution_count": 20,
     "metadata": {},
     "output_type": "execute_result"
    }
   ],
   "source": [
    "pwd"
   ]
  },
  {
   "cell_type": "markdown",
   "metadata": {},
   "source": [
    "### Use cd at your command line to change directory to the file path reported back by pwd or your current .py file location.\n",
    "### Then run this code at your command line or terminal"
   ]
  },
  {
   "cell_type": "code",
   "execution_count": 23,
   "metadata": {},
   "outputs": [],
   "source": [
    "#tensorboard --logdir logs\\\\fit "
   ]
  }
 ],
 "metadata": {
  "kernelspec": {
   "display_name": "Python 3",
   "language": "python",
   "name": "python3"
  },
  "language_info": {
   "codemirror_mode": {
    "name": "ipython",
    "version": 3
   },
   "file_extension": ".py",
   "mimetype": "text/x-python",
   "name": "python",
   "nbconvert_exporter": "python",
   "pygments_lexer": "ipython3",
   "version": "3.11.7"
  }
 },
 "nbformat": 4,
 "nbformat_minor": 2
}
